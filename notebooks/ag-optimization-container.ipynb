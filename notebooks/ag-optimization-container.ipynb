{
 "cells": [
  {
   "cell_type": "markdown",
   "metadata": {},
   "source": [
    "# Genetic Algorithm for Container Storage Space "
   ]
  },
  {
   "cell_type": "markdown",
   "metadata": {},
   "source": [
    "Para exemplificar a utilização de algoritimos genéticos para um problema de ótimização, foi feita a\n",
    "implementação de um algoritimo para determinar o número de frutas de cada tipo que um container\n",
    "pode carregar de forma a alcançar o maior valor de carregamento, sem ultrapassar o peso máximo de\n",
    "500 e respeitando o mı́nimo de frutas de 4 unidades."
   ]
  },
  {
   "cell_type": "markdown",
   "metadata": {},
   "source": [
    "|Fruit| Weight | Value |\n",
    "|-----|--------|-------|\n",
    "|Lemon|2|3|\n",
    "|Orange|4|3|6|\n",
    "|Papaya|5|10|\n",
    "|Pineapple|8|18|\n",
    "|Watermelon|12|26|"
   ]
  },
  {
   "cell_type": "markdown",
   "metadata": {},
   "source": [
    "Basic Genetic Algorithm:  \n",
    "1) Init population  \n",
    "2) Fitness  \n",
    "3) Selection  \n",
    "4) Crossover and mutation  \n",
    "5) Repeat  "
   ]
  },
  {
   "cell_type": "markdown",
   "metadata": {},
   "source": [
    "---"
   ]
  },
  {
   "cell_type": "code",
   "execution_count": 1,
   "metadata": {},
   "outputs": [],
   "source": [
    "import numpy as np\n",
    "import random\n",
    "import matplotlib\n",
    "import matplotlib.pyplot as plt\n",
    "%matplotlib inline"
   ]
  },
  {
   "cell_type": "code",
   "execution_count": 2,
   "metadata": {},
   "outputs": [],
   "source": [
    "def initialize(size):\n",
    "    \"\"\" Initialize population\n",
    "    \n",
    "    Args:\n",
    "        size: Size of the population\n",
    "        \n",
    "    Returns:\n",
    "        Numpy matrix with the population\n",
    "    \"\"\"\n",
    "    \n",
    "    population = np.zeros((size,6)) # 6 Columns: One for each fruit (5 fruits) and the one for the fitness value\n",
    "    \n",
    "    for chrom in population:\n",
    "        chrom[:-1] = np.array(random.sample(range(4, 192), 5)) # Alphabet: 4 (min) to 192\n",
    "        chrom[-1]  = fitness(chrom[:-1])\n",
    "        \n",
    "    return population\n",
    "    "
   ]
  },
  {
   "cell_type": "code",
   "execution_count": 3,
   "metadata": {},
   "outputs": [],
   "source": [
    "def fitness(chromosome):\n",
    "    \"\"\" Calculate fitness\n",
    "    \n",
    "    Args:\n",
    "        chromosome: Chromosome to calculate fitness\n",
    "        \n",
    "    Returns:\n",
    "        Calculated fitness\n",
    "    \"\"\"\n",
    "    \n",
    "    max_weight = 500\n",
    "    penalty    = 20\n",
    "    \n",
    "    weight     = [2, 4, 5, 8, 12]\n",
    "    value      = [3, 6, 10, 18, 26]\n",
    "    \n",
    "    weight_chrom = np.sum(chromosome * weight)\n",
    "    value_chrom  = np.sum(chromosome * value)\n",
    "    \n",
    "    if (weight_chrom <= max_weight):\n",
    "        fitness = value_chrom\n",
    "    else:\n",
    "        fitness = value_chrom - (weight_chrom - max_weight) * penalty\n",
    "        \n",
    "    return fitness"
   ]
  },
  {
   "cell_type": "code",
   "execution_count": 4,
   "metadata": {},
   "outputs": [],
   "source": [
    "def selection(population, tx, k):\n",
    "    \"\"\" Select chromosomes to reproduce using tournament algorithm\n",
    "    \n",
    "    Args:\n",
    "        population : Matrix with all population\n",
    "        tx         : \n",
    "        k          : Tournament size\n",
    "        \n",
    "    Return:\n",
    "        Parents selected to reproduce\n",
    "    \"\"\"\n",
    "    \n",
    "    size = round(len(population) * tx)\n",
    "    \n",
    "    if (size % 2 != 0 or size == 0): \n",
    "        size += 1\n",
    "        \n",
    "    parents = np.zeros((size,6))\n",
    "    \n",
    "    for i in range(0, size):\n",
    "        better_p = min(population[:,-1])\n",
    "        for j in range(0, k):\n",
    "            candidate = random.choice(population)\n",
    "            if (candidate[-1] >= better_p):\n",
    "                better_p = candidate[-1]\n",
    "                select   = candidate\n",
    "\n",
    "        parents[i] = select\n",
    "    \n",
    "    return parents"
   ]
  },
  {
   "cell_type": "code",
   "execution_count": 5,
   "metadata": {},
   "outputs": [],
   "source": [
    "def crossover(parents):\n",
    "    \"\"\" Create children using single-point crossover\n",
    "    \n",
    "    Args:\n",
    "        parents: Matrix with selected parents\n",
    "        \n",
    "    Returns:\n",
    "        Vector with generated children\n",
    "    \"\"\"\n",
    "    \n",
    "    children = parents.copy()\n",
    "    \n",
    "    for i in range(0, len(children), 2):\n",
    "        point = int(np.array(random.sample(range(1, 5), 1)))\n",
    "\n",
    "        # Children 1\n",
    "        children[i, :point]   = parents[i+1, :point]\n",
    "        children[i,-1]         = fitness(children[i,:-1])\n",
    "        \n",
    "        # Children 2\n",
    "        children[i+1, :point] = parents[i, :point]\n",
    "        children[i+1, -1]      = fitness(children[i+1, :-1])\n",
    "        \n",
    "    return children"
   ]
  },
  {
   "cell_type": "code",
   "execution_count": 6,
   "metadata": {},
   "outputs": [],
   "source": [
    "def mutation(population, tx):\n",
    "    \"\"\" Apply mutation\n",
    "    \n",
    "    Args:\n",
    "        population :\n",
    "        tx         :\n",
    "    \"\"\"\n",
    "    \n",
    "    n_mutation = round(len(population)*tx)\n",
    "    \n",
    "    if (n_mutation < 0): \n",
    "        n_mutation = 1\n",
    "        \n",
    "    for i in range(0, n_mutation):\n",
    "        chromosome = random.randint(2, len(population) - 1)\n",
    "        locus      = random.randint(0, 5)\n",
    "        \n",
    "        population[chromosome, locus] = random.randint(4,192)\n",
    "        population[chromosome, -1]    = fitness(population[chromosome, :-1])\n",
    "        "
   ]
  },
  {
   "cell_type": "code",
   "execution_count": 7,
   "metadata": {},
   "outputs": [
    {
     "name": "stdout",
     "output_type": "stream",
     "text": [
      "[[   7.    5.   14.   36.    9. 1073.]\n",
      " [   8.    7.    4.   26.   19. 1068.]\n",
      " [  11.    8.   13.   40.    5. 1061.]\n",
      " [   7.   11.    7.   40.    7. 1059.]\n",
      " [   6.    5.   13.   37.    9. 1058.]]\n"
     ]
    }
   ],
   "source": [
    "gen = 30\n",
    "pop = initialize(2000)\n",
    "\n",
    "better = np.zeros(gen)\n",
    "mean   = np.zeros(gen)\n",
    "\n",
    "for i in range(0, gen):\n",
    "    pop          = pop[pop[:,-1].argsort()][::-1] # Sorte in decreasing order\n",
    "    parents      = selection(pop, 0.4, 3)         # Population, tx, k\n",
    "    children     = crossover(parents)\n",
    "    n_keep       = len(pop) - len(children)\n",
    "    pop[n_keep:] = children\n",
    "    mutation(pop, 0.4)\n",
    "    \n",
    "    better[i]    = pop[0, -1]\n",
    "    mean[i]      = np.mean(pop[:,-1])\n",
    "    \n",
    "\n",
    "pop = pop[pop[:,-1].argsort()][::-1]\n",
    "print(pop[:5])"
   ]
  },
  {
   "cell_type": "code",
   "execution_count": 8,
   "metadata": {},
   "outputs": [
    {
     "data": {
      "image/png": "[encoded data removed]",
      "text/plain": [
       "<Figure size 432x288 with 1 Axes>"
      ]
     },
     "metadata": {
      "needs_background": "light"
     },
     "output_type": "display_data"
    }
   ],
   "source": [
    "plt.figure()\n",
    "plt.plot(np.arange(1,gen+1), better, label = 'Better')\n",
    "plt.plot(np.arange(1,gen+1), mean, label = 'Mean')\n",
    "plt.xlabel(\"Generation\")\n",
    "plt.ylabel(\"Fitness\")\n",
    "plt.legend()\n",
    "plt.show()"
   ]
  }
 ],
 "metadata": {
  "kernelspec": {
   "display_name": "ml",
   "language": "python",
   "name": "ml"
  },
  "language_info": {
   "codemirror_mode": {
    "name": "ipython",
    "version": 3
   },
   "file_extension": ".py",
   "mimetype": "text/x-python",
   "name": "python",
   "nbconvert_exporter": "python",
   "pygments_lexer": "ipython3",
   "version": "3.7.4"
  }
 },
 "nbformat": 4,
 "nbformat_minor": 2
}
