{
 "cells": [
  {
   "cell_type": "markdown",
   "metadata": {},
   "source": [
    "# Genetic Algorithm for Maximize a function "
   ]
  },
  {
   "cell_type": "markdown",
   "metadata": {},
   "source": [
    "Simple optimization example: Michaelewicz 99"
   ]
  },
  {
   "cell_type": "markdown",
   "metadata": {},
   "source": [
    "Calculate the maximum of:  \n",
    "$$f(x) = x * sin(10\\pi*x) + 1, x \\in [-1..2]$$\n",
    "\n",
    "Solution: $f(x^#) = 2.85$, para $x^# = 1.85$"
   ]
  },
  {
   "cell_type": "markdown",
   "metadata": {},
   "source": [
    "### Parametros\n",
    "- Representação:\n",
    "  - Binário, comprimento fixo\n",
    "  - Precisão 6 casas decimais\n",
    "  - Dividir o intervalo $-1$ a $2$ em $3*10^6$\n",
    "  - São precisos 22 bits\n",
    "  - $2^{21} < 3000000 <= 2^{22}$\n",
    " \n",
    "- Seleção: Proporcional ao desempenho\n",
    "  - Desempenho = $f(x)$\n",
    "  \n",
    "- Operadores genéticos\n",
    "  - Crossover de um ponto (0.25)\n",
    "  - Mutação simples (0.01)\n",
    "  \n",
    "- Critério de paragem: \n",
    "  - Numéro de gerações = 150"
   ]
  },
  {
   "cell_type": "markdown",
   "metadata": {},
   "source": [
    "---"
   ]
  },
  {
   "cell_type": "code",
   "execution_count": 1,
   "metadata": {},
   "outputs": [],
   "source": [
    "import numpy as np\n",
    "import random\n",
    "from math import sin, pi\n",
    "import matplotlib\n",
    "import matplotlib.pyplot as plt\n",
    "%matplotlib inline"
   ]
  },
  {
   "cell_type": "code",
   "execution_count": 2,
   "metadata": {},
   "outputs": [],
   "source": [
    "def initialize(size):\n",
    "    \"\"\" Initialize population\n",
    "    \n",
    "    Args:\n",
    "        size: Size of the population\n",
    "        \n",
    "    Returns:\n",
    "        Numpy matrix with the population\n",
    "    \"\"\"\n",
    "    \n",
    "    population = np.zeros((size,23))\n",
    "    \n",
    "    for chrom in population:\n",
    "        value      = random.randint(0, 4194303)\n",
    "        binary     = list(f'{value:022b}')\n",
    "        chrom[:-1] = [int(d) for d in binary]\n",
    "        chrom[-1]  = fitness(chrom[:-1])\n",
    "    \n",
    "    return population    "
   ]
  },
  {
   "cell_type": "code",
   "execution_count": 3,
   "metadata": {},
   "outputs": [],
   "source": [
    "def decode(chromosome):\n",
    "    \"\"\" Convert binary to real in range (-1, 2) with 6 decimal precision\n",
    "    \n",
    "    Args:\n",
    "        chromosome : \n",
    "    \"\"\"\n",
    "    \n",
    "    b = ''.join(map(str, [str(int(d)) for d in chromosome]))\n",
    "    x = int(b, 2)    \n",
    "    v = np.array(-1.0 + (x * (3/4194303))).round(decimals=6)\n",
    "    \n",
    "    return(v)"
   ]
  },
  {
   "cell_type": "code",
   "execution_count": 4,
   "metadata": {},
   "outputs": [],
   "source": [
    "def fitness(chromosome):\n",
    "    \"\"\" Calculate fitness\n",
    "    \n",
    "    Args:\n",
    "        chromosome: Chromosome to calculate fitness\n",
    "        \n",
    "    Returns:\n",
    "        Calculated fitness\n",
    "    \"\"\"\n",
    "    \n",
    "    x      = decode(chromosome)\n",
    "    fitness = x * sin(10 * pi * x) + 1\n",
    "        \n",
    "    return fitness"
   ]
  },
  {
   "cell_type": "code",
   "execution_count": 5,
   "metadata": {},
   "outputs": [],
   "source": [
    "def selection(population, tx, k):\n",
    "    \"\"\" Select chromosomes to reproduce using tournament algorithm\n",
    "    \n",
    "    Args:\n",
    "        population : Matrix with all population\n",
    "        tx         : \n",
    "        k          : Tournament size\n",
    "        \n",
    "    Return:\n",
    "        Parents selected to reproduce\n",
    "    \"\"\"\n",
    "    \n",
    "    size = round(len(population) * tx)\n",
    "    \n",
    "    if (size % 2 != 0 or size == 0): \n",
    "        size += 1\n",
    "        \n",
    "    parents = np.zeros((size, population.shape[1]))\n",
    "    \n",
    "    for i in range(0, size):\n",
    "        better_p = min(population[:,-1])\n",
    "        for j in range(0, k):\n",
    "            candidate = random.choice(population)\n",
    "            if (candidate[-1] >= better_p):\n",
    "                better_p = candidate[-1]\n",
    "                select   = candidate\n",
    "\n",
    "        parents[i] = select\n",
    "    \n",
    "    return parents"
   ]
  },
  {
   "cell_type": "code",
   "execution_count": 6,
   "metadata": {},
   "outputs": [],
   "source": [
    "def crossover(parents):\n",
    "    \"\"\" Create children using single-point crossover\n",
    "    \n",
    "    Args:\n",
    "        parents: Matrix with selected parents\n",
    "        \n",
    "    Returns:\n",
    "        Vector with generated children\n",
    "    \"\"\"\n",
    "    \n",
    "    children = parents.copy()\n",
    "    \n",
    "    for i in range(0, len(children), 2):\n",
    "        point = int(np.array(random.sample(range(1, parents.shape[1] - 1), 1)))\n",
    "\n",
    "        # Children 1\n",
    "        children[i, :point]   = parents[i+1, :point]\n",
    "        children[i,-1]         = fitness(children[i,:-1])\n",
    "        \n",
    "        # Children 2\n",
    "        children[i+1, :point] = parents[i, :point]\n",
    "        children[i+1, -1]      = fitness(children[i+1, :-1])\n",
    "        \n",
    "    return children"
   ]
  },
  {
   "cell_type": "code",
   "execution_count": 7,
   "metadata": {},
   "outputs": [],
   "source": [
    "def mutation(population, tx):\n",
    "    \"\"\" Apply mutation\n",
    "    \n",
    "    Args:\n",
    "        population :\n",
    "        tx         :\n",
    "    \"\"\"\n",
    "    \n",
    "    n_mutation = round(len(population)*tx)\n",
    "    \n",
    "    if (n_mutation < 0): \n",
    "        n_mutation = 1\n",
    "        \n",
    "    for i in range(0, n_mutation):\n",
    "        chromosome = random.randint(2, population.shape[0] - 1)\n",
    "        locus      = random.randint(0, population.shape[1] - 2)\n",
    "        \n",
    "        population[chromosome, locus] = random.randint(0,1)\n",
    "        population[chromosome, -1]    = fitness(population[chromosome, :-1])\n",
    "        "
   ]
  },
  {
   "cell_type": "code",
   "execution_count": 12,
   "metadata": {},
   "outputs": [],
   "source": [
    "gen = 150\n",
    "pop = initialize(1000)\n",
    "\n",
    "better = np.zeros(gen)\n",
    "mean   = np.zeros(gen)\n",
    "\n",
    "for i in range(0, gen):\n",
    "    pop          = pop[pop[:,-1].argsort()][::-1] # Sorte in decreasing order\n",
    "    parents      = selection(pop, 0.4, 3)         # Population, tx, k   \n",
    "    children     = crossover(parents)\n",
    "    n_keep       = len(pop) - len(children)\n",
    "    pop[n_keep:] = children\n",
    "    mutation(pop, 0.1)\n",
    "    \n",
    "    better[i]    = pop[0, -1]\n",
    "    mean[i]      = np.mean(pop[:,-1])\n",
    "   \n",
    "\n",
    "# pop = pop[pop[:,-1].argsort()][::-1]\n",
    "# print(pop[:5])"
   ]
  },
  {
   "cell_type": "code",
   "execution_count": 13,
   "metadata": {},
   "outputs": [
    {
     "name": "stdout",
     "output_type": "stream",
     "text": [
      "Best: x:1.85, y:2.85\n"
     ]
    }
   ],
   "source": [
    "x = decode(pop[1,:-1])\n",
    "y = pop[1,-1]\n",
    "\n",
    "print(f'Best: x:{x:.2f}, y:{y:.2f}')"
   ]
  },
  {
   "cell_type": "code",
   "execution_count": 14,
   "metadata": {},
   "outputs": [
    {
     "data": {
      "image/png": "[encoded data removed]",
      "text/plain": [
       "<Figure size 432x288 with 1 Axes>"
      ]
     },
     "metadata": {
      "needs_background": "light"
     },
     "output_type": "display_data"
    }
   ],
   "source": [
    "plt.figure()\n",
    "plt.plot(np.arange(1,gen+1), better, label = 'Better')\n",
    "plt.plot(np.arange(1,gen+1), mean, label = 'Mean')\n",
    "plt.xlabel(\"Generation\")\n",
    "plt.ylabel(\"Fitness\")\n",
    "plt.legend()\n",
    "plt.show()"
   ]
  },
  {
   "cell_type": "code",
   "execution_count": 15,
   "metadata": {},
   "outputs": [
    {
     "data": {
      "image/png": "[encoded data removed]",
      "text/plain": [
       "<Figure size 432x288 with 1 Axes>"
      ]
     },
     "metadata": {
      "needs_background": "light"
     },
     "output_type": "display_data"
    }
   ],
   "source": [
    "def f(x):\n",
    "    return(x * sin(10 * pi * x) + 1)\n",
    "\n",
    "x_axis = np.linspace(-1,2,len(pop))\n",
    "y_axis = [f(i) for i in x_axis]\n",
    "\n",
    "plt.figure()\n",
    "plt.plot(x_axis, y_axis)\n",
    "plt.scatter(x, y, c='r', label = 'Best')\n",
    "plt.legend()\n",
    "plt.show()"
   ]
  }
 ],
 "metadata": {
  "kernelspec": {
   "display_name": "ml",
   "language": "python",
   "name": "ml"
  },
  "language_info": {
   "codemirror_mode": {
    "name": "ipython",
    "version": 3
   },
   "file_extension": ".py",
   "mimetype": "text/x-python",
   "name": "python",
   "nbconvert_exporter": "python",
   "pygments_lexer": "ipython3",
   "version": "3.7.4"
  }
 },
 "nbformat": 4,
 "nbformat_minor": 2
}
